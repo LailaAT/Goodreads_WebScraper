{
 "cells": [
  {
   "cell_type": "code",
   "execution_count": 1,
   "metadata": {},
   "outputs": [],
   "source": [
    "#attempting to scrape reviews on the Shatter Me book from Good Reads\n",
    "import requests\n",
    "from bs4 import BeautifulSoup\n",
    "import pandas as pd\n",
    "import re\n",
    "import time\n",
    "\n",
    "url = 'https://www.goodreads.com/book/show/10429045-shatter-me?ac=1&from_search=true&qid=LTPl6xDMUw&rank=1'\n",
    "page = requests.get(url)\n",
    "d = BeautifulSoup(page.text, 'html.parser')\n",
    "\n",
    "#finding all the reviews \n",
    "#note -> this also scrape the blurb and author description so these should be removed later on\n",
    "reviews = d.find_all('span', class_=\"Formatted\")"
   ]
  },
  {
   "cell_type": "code",
   "execution_count": 2,
   "metadata": {},
   "outputs": [
    {
     "data": {
      "text/plain": [
       "33"
      ]
     },
     "execution_count": 2,
     "metadata": {},
     "output_type": "execute_result"
    }
   ],
   "source": [
    "reviewsList = list(map(lambda x: x.get_text(), reviews))\n",
    "len(reviewsList)\n",
    "#extracting the review text and adding it to a list"
   ]
  },
  {
   "cell_type": "code",
   "execution_count": 3,
   "metadata": {},
   "outputs": [
    {
     "data": {
      "text/plain": [
       "30"
      ]
     },
     "execution_count": 3,
     "metadata": {},
     "output_type": "execute_result"
    }
   ],
   "source": [
    "review_state = d.find_all('div', class_=\"ShelfStatus\")\n",
    "len(review_state)\n",
    "#atteming to find all the ratings (stars)"
   ]
  },
  {
   "cell_type": "code",
   "execution_count": 4,
   "metadata": {},
   "outputs": [],
   "source": [
    "#cleaning the data as some people do not rate books and keep it shelved as Read or Currently Reading\n",
    "ratingStars = []\n",
    "for i in range (len(review_state)):\n",
    "    try:\n",
    "        rating = review_state[i].find('span', class_='RatingStars RatingStars__small')['aria-label']\n",
    "        #stars = rating.a['aria-label']\n",
    "        ratingStars.append(rating[7])\n",
    "    except:\n",
    "        ratingStars.append(0)\n",
    "        #if no rating, just add 0 to the list"
   ]
  },
  {
   "cell_type": "code",
   "execution_count": 7,
   "metadata": {},
   "outputs": [
    {
     "data": {
      "text/plain": [
       "'Tahereh Mafi is the New York Times and USA Today bestselling author of the Shatter Me series. She was born in a small city somewhere in Connecticut and currently resides in Santa Monica, California with her husband, fellow author Ransom Riggs. She can usually be found over-caffeinated and stuck in a book. Shatter Me is her first series, with television rights optioned by ABC Signature Studios; Furthermore, her first middle grade novel, is on shelves now, and Whichwood, its darker companion, will be on shelves November 14, 2017.'"
      ]
     },
     "execution_count": 7,
     "metadata": {},
     "output_type": "execute_result"
    }
   ],
   "source": [
    "#removing first three entires in reviews as those represent blurb and author description\n",
    "reviewsList.pop(0)\n",
    "#execute this code 3 times"
   ]
  },
  {
   "cell_type": "code",
   "execution_count": 8,
   "metadata": {},
   "outputs": [
    {
     "name": "stdout",
     "output_type": "stream",
     "text": [
      "30\n"
     ]
    },
    {
     "data": {
      "text/plain": [
       "30"
      ]
     },
     "execution_count": 8,
     "metadata": {},
     "output_type": "execute_result"
    }
   ],
   "source": [
    "print(len(ratingStars))\n",
    "len(reviewsList)"
   ]
  },
  {
   "cell_type": "code",
   "execution_count": 9,
   "metadata": {},
   "outputs": [
    {
     "data": {
      "text/html": [
       "<div>\n",
       "<style scoped>\n",
       "    .dataframe tbody tr th:only-of-type {\n",
       "        vertical-align: middle;\n",
       "    }\n",
       "\n",
       "    .dataframe tbody tr th {\n",
       "        vertical-align: top;\n",
       "    }\n",
       "\n",
       "    .dataframe thead th {\n",
       "        text-align: right;\n",
       "    }\n",
       "</style>\n",
       "<table border=\"1\" class=\"dataframe\">\n",
       "  <thead>\n",
       "    <tr style=\"text-align: right;\">\n",
       "      <th></th>\n",
       "      <th>Rating</th>\n",
       "      <th>Review</th>\n",
       "    </tr>\n",
       "  </thead>\n",
       "  <tbody>\n",
       "    <tr>\n",
       "      <th>0</th>\n",
       "      <td>1</td>\n",
       "      <td>This is not a dystopia, it is a romance. This ...</td>\n",
       "    </tr>\n",
       "    <tr>\n",
       "      <th>1</th>\n",
       "      <td>1</td>\n",
       "      <td>I know many found this book to have a very uni...</td>\n",
       "    </tr>\n",
       "    <tr>\n",
       "      <th>2</th>\n",
       "      <td>0</td>\n",
       "      <td>MY PRECIOUS IS NOW SIGNED BY TAHEREH!!! I can ...</td>\n",
       "    </tr>\n",
       "    <tr>\n",
       "      <th>3</th>\n",
       "      <td>2</td>\n",
       "      <td>Juliette describing Adam’s eyes“...perfect sha...</td>\n",
       "    </tr>\n",
       "    <tr>\n",
       "      <th>4</th>\n",
       "      <td>1</td>\n",
       "      <td>I deserve a medal for finishing this book.Like...</td>\n",
       "    </tr>\n",
       "    <tr>\n",
       "      <th>5</th>\n",
       "      <td>0</td>\n",
       "      <td>4/5 stars.The only reason I gave this book 4 a...</td>\n",
       "    </tr>\n",
       "    <tr>\n",
       "      <th>6</th>\n",
       "      <td>1</td>\n",
       "      <td>“I always wonder about raindrops.I wonder abou...</td>\n",
       "    </tr>\n",
       "    <tr>\n",
       "      <th>7</th>\n",
       "      <td>5</td>\n",
       "      <td>*reread for a special vid* —————————————-(Rere...</td>\n",
       "    </tr>\n",
       "    <tr>\n",
       "      <th>8</th>\n",
       "      <td>1</td>\n",
       "      <td>Oh, Juliette, SHUT THE FUCK UP ALREADY. Insuff...</td>\n",
       "    </tr>\n",
       "    <tr>\n",
       "      <th>9</th>\n",
       "      <td>1</td>\n",
       "      <td>this book is what i see in the corner of my ro...</td>\n",
       "    </tr>\n",
       "    <tr>\n",
       "      <th>10</th>\n",
       "      <td>0</td>\n",
       "      <td>\"He's wrong he's so wrong he's more wrong than...</td>\n",
       "    </tr>\n",
       "    <tr>\n",
       "      <th>11</th>\n",
       "      <td>5</td>\n",
       "      <td>I literally read 300 pgs in one sitting and fi...</td>\n",
       "    </tr>\n",
       "    <tr>\n",
       "      <th>12</th>\n",
       "      <td>2</td>\n",
       "      <td>Shat­ter Me, oth­er­wise known as: When Cre­at...</td>\n",
       "    </tr>\n",
       "    <tr>\n",
       "      <th>13</th>\n",
       "      <td>1</td>\n",
       "      <td>I always wonder about raindrops.I wonder about...</td>\n",
       "    </tr>\n",
       "    <tr>\n",
       "      <th>14</th>\n",
       "      <td>2</td>\n",
       "      <td>So, I actually didn't hate this as much as I t...</td>\n",
       "    </tr>\n",
       "    <tr>\n",
       "      <th>15</th>\n",
       "      <td>3</td>\n",
       "      <td>3.5 ❤️</td>\n",
       "    </tr>\n",
       "    <tr>\n",
       "      <th>16</th>\n",
       "      <td>5</td>\n",
       "      <td>November 2017I picked this back up on a whim b...</td>\n",
       "    </tr>\n",
       "    <tr>\n",
       "      <th>17</th>\n",
       "      <td>1</td>\n",
       "      <td>This book is pretty darn bad. This book is pre...</td>\n",
       "    </tr>\n",
       "    <tr>\n",
       "      <th>18</th>\n",
       "      <td>1</td>\n",
       "      <td>Instagram || Twitter || Facebook || Amazon || ...</td>\n",
       "    </tr>\n",
       "    <tr>\n",
       "      <th>19</th>\n",
       "      <td>4</td>\n",
       "      <td>You can find the full review and more about th...</td>\n",
       "    </tr>\n",
       "    <tr>\n",
       "      <th>20</th>\n",
       "      <td>4</td>\n",
       "      <td>I seriously don’t know why it took me so long ...</td>\n",
       "    </tr>\n",
       "    <tr>\n",
       "      <th>21</th>\n",
       "      <td>2</td>\n",
       "      <td>I’m unhauling this whole series and canceled m...</td>\n",
       "    </tr>\n",
       "    <tr>\n",
       "      <th>22</th>\n",
       "      <td>5</td>\n",
       "      <td>By the way, check out this fan made poster for...</td>\n",
       "    </tr>\n",
       "    <tr>\n",
       "      <th>23</th>\n",
       "      <td>2</td>\n",
       "      <td>(2.5?) The lack of world building is one of my...</td>\n",
       "    </tr>\n",
       "    <tr>\n",
       "      <th>24</th>\n",
       "      <td>2</td>\n",
       "      <td>It's been 27 hours since I started reading thi...</td>\n",
       "    </tr>\n",
       "    <tr>\n",
       "      <th>25</th>\n",
       "      <td>1</td>\n",
       "      <td>dnf @ p. 127.Yeah, well, you know how is this....</td>\n",
       "    </tr>\n",
       "    <tr>\n",
       "      <th>26</th>\n",
       "      <td>2</td>\n",
       "      <td>~ 2 stars ~This is the most painfully underwhe...</td>\n",
       "    </tr>\n",
       "    <tr>\n",
       "      <th>27</th>\n",
       "      <td>5</td>\n",
       "      <td>I WANT WARNER SO BAD ITS NOT EVEN FUNNY</td>\n",
       "    </tr>\n",
       "    <tr>\n",
       "      <th>28</th>\n",
       "      <td>1</td>\n",
       "      <td>usually I am nostalgic and like to look back o...</td>\n",
       "    </tr>\n",
       "    <tr>\n",
       "      <th>29</th>\n",
       "      <td>3</td>\n",
       "      <td>“All I ever wanted was to reach out and touc...</td>\n",
       "    </tr>\n",
       "  </tbody>\n",
       "</table>\n",
       "</div>"
      ],
      "text/plain": [
       "   Rating                                             Review\n",
       "0       1  This is not a dystopia, it is a romance. This ...\n",
       "1       1  I know many found this book to have a very uni...\n",
       "2       0  MY PRECIOUS IS NOW SIGNED BY TAHEREH!!! I can ...\n",
       "3       2  Juliette describing Adam’s eyes“...perfect sha...\n",
       "4       1  I deserve a medal for finishing this book.Like...\n",
       "5       0  4/5 stars.The only reason I gave this book 4 a...\n",
       "6       1  “I always wonder about raindrops.I wonder abou...\n",
       "7       5  *reread for a special vid* —————————————-(Rere...\n",
       "8       1  Oh, Juliette, SHUT THE FUCK UP ALREADY. Insuff...\n",
       "9       1  this book is what i see in the corner of my ro...\n",
       "10      0  \"He's wrong he's so wrong he's more wrong than...\n",
       "11      5  I literally read 300 pgs in one sitting and fi...\n",
       "12      2  Shat­ter Me, oth­er­wise known as: When Cre­at...\n",
       "13      1  I always wonder about raindrops.I wonder about...\n",
       "14      2  So, I actually didn't hate this as much as I t...\n",
       "15      3                                             3.5 ❤️\n",
       "16      5  November 2017I picked this back up on a whim b...\n",
       "17      1  This book is pretty darn bad. This book is pre...\n",
       "18      1  Instagram || Twitter || Facebook || Amazon || ...\n",
       "19      4  You can find the full review and more about th...\n",
       "20      4  I seriously don’t know why it took me so long ...\n",
       "21      2  I’m unhauling this whole series and canceled m...\n",
       "22      5  By the way, check out this fan made poster for...\n",
       "23      2  (2.5?) The lack of world building is one of my...\n",
       "24      2  It's been 27 hours since I started reading thi...\n",
       "25      1  dnf @ p. 127.Yeah, well, you know how is this....\n",
       "26      2  ~ 2 stars ~This is the most painfully underwhe...\n",
       "27      5            I WANT WARNER SO BAD ITS NOT EVEN FUNNY\n",
       "28      1  usually I am nostalgic and like to look back o...\n",
       "29      3    “All I ever wanted was to reach out and touc..."
      ]
     },
     "execution_count": 9,
     "metadata": {},
     "output_type": "execute_result"
    }
   ],
   "source": [
    "#creating a table to add reviews + ratings in\n",
    "revRate = pd.DataFrame({'Rating': ratingStars, 'Review': reviewsList})\n",
    "revRate['Review'] = revRate['Review'].apply(lambda x: x.replace('\\n', ''))\n",
    "revRate"
   ]
  },
  {
   "cell_type": "code",
   "execution_count": 11,
   "metadata": {},
   "outputs": [],
   "source": [
    "revRate.to_csv('ShatteMe_Reviews_firstPage.csv')\n",
    "#transferring data to csv file"
   ]
  }
 ],
 "metadata": {
  "kernelspec": {
   "display_name": "Python 3",
   "language": "python",
   "name": "python3"
  },
  "language_info": {
   "codemirror_mode": {
    "name": "ipython",
    "version": 3
   },
   "file_extension": ".py",
   "mimetype": "text/x-python",
   "name": "python",
   "nbconvert_exporter": "python",
   "pygments_lexer": "ipython3",
   "version": "3.11.4"
  },
  "orig_nbformat": 4
 },
 "nbformat": 4,
 "nbformat_minor": 2
}
